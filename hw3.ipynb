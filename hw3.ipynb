{
  "nbformat": 4,
  "nbformat_minor": 0,
  "metadata": {
    "colab": {
      "provenance": [],
      "authorship_tag": "ABX9TyN+rFaJe4uL9wRZk8v0HF6s",
      "include_colab_link": true
    },
    "kernelspec": {
      "name": "python3",
      "display_name": "Python 3"
    },
    "language_info": {
      "name": "python"
    }
  },
  "cells": [
    {
      "cell_type": "markdown",
      "metadata": {
        "id": "view-in-github",
        "colab_type": "text"
      },
      "source": [
        "<a href=\"https://colab.research.google.com/github/Anchichichichi/hw3_quick_sort/blob/main/hw3.ipynb\" target=\"_parent\"><img src=\"https://colab.research.google.com/assets/colab-badge.svg\" alt=\"Open In Colab\"/></a>"
      ]
    },
    {
      "cell_type": "markdown",
      "source": [],
      "metadata": {
        "id": "iGCsCZp7N5mf"
      }
    },
    {
      "cell_type": "code",
      "execution_count": null,
      "metadata": {
        "id": "WYdQb_ADNGC2"
      },
      "outputs": [],
      "source": [
        "def QuickSort(arr, start, end):\n",
        "    if start < end:\n",
        "        pivotIndex = Partition(arr, start, end)\n",
        "        QuickSort(arr, start, pivotIndex-1)\n",
        "        QuickSort(arr, pivotIndex+1, end)\n",
        "    return arr\n",
        "\n",
        "\n",
        "def Partition(arr, start, end):\n",
        "    pivot = arr[start]\n",
        "    leftPointer = start+1\n",
        "    rightPointer = end\n",
        "    while rightPointer >= leftPointer:\n",
        "        while leftPointer <= rightPointer and arr[leftPointer] <= pivot:\n",
        "            leftPointer += 1\n",
        "        while arr[rightPointer] >= pivot and rightPointer >=leftPointer:\n",
        "            rightPointer -= 1\n",
        "        if rightPointer >= leftPointer:\n",
        "            arr[leftPointer],arr[rightPointer] = arr[rightPointer],arr[leftPointer]\n",
        "            Partition.counter += 1\n",
        "            print(\"步驟\",Partition.counter, \"<\", start, \",\", end, \">：\", arr,\"(Swap:\",arr[rightPointer],\"<->\", arr[leftPointer], \", Pivot:\", pivot, \")\")\n",
        "    if start != rightPointer:\n",
        "        arr[start],arr[rightPointer] = arr[rightPointer],arr[start]\n",
        "        Partition.counter += 1\n",
        "        print(\"步驟\",Partition.counter, \"<\", start, \",\", end, \">：\", arr,\"(Align pivot:\",arr[rightPointer],\"<->\", arr[start], \")\")\n",
        "    else:\n",
        "        Partition.counter += 1\n",
        "        print(\"步驟\",Partition.counter, \"<\", start, \",\", end, \">：\", arr,\"(Pivot stand well:\", arr[start], \")\")\n",
        "        \n",
        "    return rightPointer\n",
        "\n",
        "Partition.counter = 0\n",
        "\n",
        "# 測試程式碼\n",
        "arr = [33, 67, 8, 13, 54, 119, 3, 84, 25, 41]\n",
        "print(\"原始陣列：\", arr)\n",
        "#print(\"排序過程：\")\n",
        "sorted_arr = QuickSort(arr, 0, len(arr)-1)\n",
        "print(\"排序結果：\", sorted_arr)\n"
      ]
    }
  ]
}